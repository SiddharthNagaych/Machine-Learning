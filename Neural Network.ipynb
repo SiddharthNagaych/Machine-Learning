{
 "cells": [
  {
   "cell_type": "code",
   "execution_count": 5,
   "id": "a2ec8379",
   "metadata": {},
   "outputs": [],
   "source": [
    "import numpy as np"
   ]
  },
  {
   "cell_type": "code",
   "execution_count": 6,
   "id": "234e0aa0",
   "metadata": {},
   "outputs": [],
   "source": [
    "input_size=3\n",
    "layers=[3,2]\n",
    "output_size=2"
   ]
  },
  {
   "cell_type": "code",
   "execution_count": null,
   "id": "d8d3cfa4",
   "metadata": {},
   "outputs": [],
   "source": [
    "class NeuralNetwork:\n",
    "    def __init__(self,input_size,layers,output_size):\n",
    "        np.random.seed(0)\n",
    "        model={} #dictionary\n",
    "        model['w1']=np.random.randn(input_size,layers[0])\n",
    "        model['b1']=np.zeros(1,layers[0])"
   ]
  },
  {
   "cell_type": "code",
   "execution_count": null,
   "id": "e41561de",
   "metadata": {},
   "outputs": [],
   "source": []
  }
 ],
 "metadata": {
  "kernelspec": {
   "display_name": "Python 3 (ipykernel)",
   "language": "python",
   "name": "python3"
  },
  "language_info": {
   "codemirror_mode": {
    "name": "ipython",
    "version": 3
   },
   "file_extension": ".py",
   "mimetype": "text/x-python",
   "name": "python",
   "nbconvert_exporter": "python",
   "pygments_lexer": "ipython3",
   "version": "3.10.9"
  }
 },
 "nbformat": 4,
 "nbformat_minor": 5
}
