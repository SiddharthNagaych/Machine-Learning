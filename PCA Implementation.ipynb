{
 "cells": [
  {
   "cell_type": "code",
   "execution_count": 1,
   "id": "8c05bdb7",
   "metadata": {},
   "outputs": [],
   "source": [
    "import pandas as pd\n",
    "import matplotlib.pyplot as plt\n",
    "import numpy as np\n",
    "\n"
   ]
  },
  {
   "cell_type": "code",
   "execution_count": 2,
   "id": "a295eba1",
   "metadata": {},
   "outputs": [],
   "source": [
    "data=pd.read_csv(\"bank_note_data.csv\")"
   ]
  },
  {
   "cell_type": "code",
   "execution_count": 3,
   "id": "b2f566fc",
   "metadata": {},
   "outputs": [
    {
     "data": {
      "text/html": [
       "<div>\n",
       "<style scoped>\n",
       "    .dataframe tbody tr th:only-of-type {\n",
       "        vertical-align: middle;\n",
       "    }\n",
       "\n",
       "    .dataframe tbody tr th {\n",
       "        vertical-align: top;\n",
       "    }\n",
       "\n",
       "    .dataframe thead th {\n",
       "        text-align: right;\n",
       "    }\n",
       "</style>\n",
       "<table border=\"1\" class=\"dataframe\">\n",
       "  <thead>\n",
       "    <tr style=\"text-align: right;\">\n",
       "      <th></th>\n",
       "      <th>Image.Var</th>\n",
       "      <th>Image.Skew</th>\n",
       "      <th>Image.Curt</th>\n",
       "      <th>Entropy</th>\n",
       "      <th>Class</th>\n",
       "    </tr>\n",
       "  </thead>\n",
       "  <tbody>\n",
       "    <tr>\n",
       "      <th>0</th>\n",
       "      <td>3.62160</td>\n",
       "      <td>8.66610</td>\n",
       "      <td>-2.8073</td>\n",
       "      <td>-0.44699</td>\n",
       "      <td>0</td>\n",
       "    </tr>\n",
       "    <tr>\n",
       "      <th>1</th>\n",
       "      <td>4.54590</td>\n",
       "      <td>8.16740</td>\n",
       "      <td>-2.4586</td>\n",
       "      <td>-1.46210</td>\n",
       "      <td>0</td>\n",
       "    </tr>\n",
       "    <tr>\n",
       "      <th>2</th>\n",
       "      <td>3.86600</td>\n",
       "      <td>-2.63830</td>\n",
       "      <td>1.9242</td>\n",
       "      <td>0.10645</td>\n",
       "      <td>0</td>\n",
       "    </tr>\n",
       "    <tr>\n",
       "      <th>3</th>\n",
       "      <td>3.45660</td>\n",
       "      <td>9.52280</td>\n",
       "      <td>-4.0112</td>\n",
       "      <td>-3.59440</td>\n",
       "      <td>0</td>\n",
       "    </tr>\n",
       "    <tr>\n",
       "      <th>4</th>\n",
       "      <td>0.32924</td>\n",
       "      <td>-4.45520</td>\n",
       "      <td>4.5718</td>\n",
       "      <td>-0.98880</td>\n",
       "      <td>0</td>\n",
       "    </tr>\n",
       "    <tr>\n",
       "      <th>...</th>\n",
       "      <td>...</td>\n",
       "      <td>...</td>\n",
       "      <td>...</td>\n",
       "      <td>...</td>\n",
       "      <td>...</td>\n",
       "    </tr>\n",
       "    <tr>\n",
       "      <th>1367</th>\n",
       "      <td>0.40614</td>\n",
       "      <td>1.34920</td>\n",
       "      <td>-1.4501</td>\n",
       "      <td>-0.55949</td>\n",
       "      <td>1</td>\n",
       "    </tr>\n",
       "    <tr>\n",
       "      <th>1368</th>\n",
       "      <td>-1.38870</td>\n",
       "      <td>-4.87730</td>\n",
       "      <td>6.4774</td>\n",
       "      <td>0.34179</td>\n",
       "      <td>1</td>\n",
       "    </tr>\n",
       "    <tr>\n",
       "      <th>1369</th>\n",
       "      <td>-3.75030</td>\n",
       "      <td>-13.45860</td>\n",
       "      <td>17.5932</td>\n",
       "      <td>-2.77710</td>\n",
       "      <td>1</td>\n",
       "    </tr>\n",
       "    <tr>\n",
       "      <th>1370</th>\n",
       "      <td>-3.56370</td>\n",
       "      <td>-8.38270</td>\n",
       "      <td>12.3930</td>\n",
       "      <td>-1.28230</td>\n",
       "      <td>1</td>\n",
       "    </tr>\n",
       "    <tr>\n",
       "      <th>1371</th>\n",
       "      <td>-2.54190</td>\n",
       "      <td>-0.65804</td>\n",
       "      <td>2.6842</td>\n",
       "      <td>1.19520</td>\n",
       "      <td>1</td>\n",
       "    </tr>\n",
       "  </tbody>\n",
       "</table>\n",
       "<p>1372 rows × 5 columns</p>\n",
       "</div>"
      ],
      "text/plain": [
       "      Image.Var  Image.Skew  Image.Curt  Entropy  Class\n",
       "0       3.62160     8.66610     -2.8073 -0.44699      0\n",
       "1       4.54590     8.16740     -2.4586 -1.46210      0\n",
       "2       3.86600    -2.63830      1.9242  0.10645      0\n",
       "3       3.45660     9.52280     -4.0112 -3.59440      0\n",
       "4       0.32924    -4.45520      4.5718 -0.98880      0\n",
       "...         ...         ...         ...      ...    ...\n",
       "1367    0.40614     1.34920     -1.4501 -0.55949      1\n",
       "1368   -1.38870    -4.87730      6.4774  0.34179      1\n",
       "1369   -3.75030   -13.45860     17.5932 -2.77710      1\n",
       "1370   -3.56370    -8.38270     12.3930 -1.28230      1\n",
       "1371   -2.54190    -0.65804      2.6842  1.19520      1\n",
       "\n",
       "[1372 rows x 5 columns]"
      ]
     },
     "execution_count": 3,
     "metadata": {},
     "output_type": "execute_result"
    }
   ],
   "source": [
    "data"
   ]
  },
  {
   "cell_type": "code",
   "execution_count": 4,
   "id": "6e4a2d64",
   "metadata": {},
   "outputs": [],
   "source": [
    "features=list(data.columns)[:-1]\n",
    "target=list(data.columns)[-1]"
   ]
  },
  {
   "cell_type": "code",
   "execution_count": 8,
   "id": "12eee1bd",
   "metadata": {},
   "outputs": [],
   "source": [
    "from sklearn.preprocessing import StandardScaler\n",
    "data_norm=data.copy()\n",
    "sc=StandardScaler()\n",
    "data_norm[features]=sc.fit_transform(data[features])\n"
   ]
  },
  {
   "cell_type": "code",
   "execution_count": 9,
   "id": "336fe3a7",
   "metadata": {},
   "outputs": [
    {
     "data": {
      "text/html": [
       "<div>\n",
       "<style scoped>\n",
       "    .dataframe tbody tr th:only-of-type {\n",
       "        vertical-align: middle;\n",
       "    }\n",
       "\n",
       "    .dataframe tbody tr th {\n",
       "        vertical-align: top;\n",
       "    }\n",
       "\n",
       "    .dataframe thead th {\n",
       "        text-align: right;\n",
       "    }\n",
       "</style>\n",
       "<table border=\"1\" class=\"dataframe\">\n",
       "  <thead>\n",
       "    <tr style=\"text-align: right;\">\n",
       "      <th></th>\n",
       "      <th>Image.Var</th>\n",
       "      <th>Image.Skew</th>\n",
       "      <th>Image.Curt</th>\n",
       "      <th>Entropy</th>\n",
       "      <th>Class</th>\n",
       "    </tr>\n",
       "  </thead>\n",
       "  <tbody>\n",
       "    <tr>\n",
       "      <th>0</th>\n",
       "      <td>1.121806</td>\n",
       "      <td>1.149455</td>\n",
       "      <td>-0.975970</td>\n",
       "      <td>0.354561</td>\n",
       "      <td>0</td>\n",
       "    </tr>\n",
       "    <tr>\n",
       "      <th>1</th>\n",
       "      <td>1.447066</td>\n",
       "      <td>1.064453</td>\n",
       "      <td>-0.895036</td>\n",
       "      <td>-0.128767</td>\n",
       "      <td>0</td>\n",
       "    </tr>\n",
       "    <tr>\n",
       "      <th>2</th>\n",
       "      <td>1.207810</td>\n",
       "      <td>-0.777352</td>\n",
       "      <td>0.122218</td>\n",
       "      <td>0.618073</td>\n",
       "      <td>0</td>\n",
       "    </tr>\n",
       "    <tr>\n",
       "      <th>3</th>\n",
       "      <td>1.063742</td>\n",
       "      <td>1.295478</td>\n",
       "      <td>-1.255397</td>\n",
       "      <td>-1.144029</td>\n",
       "      <td>0</td>\n",
       "    </tr>\n",
       "    <tr>\n",
       "      <th>4</th>\n",
       "      <td>-0.036772</td>\n",
       "      <td>-1.087038</td>\n",
       "      <td>0.736730</td>\n",
       "      <td>0.096587</td>\n",
       "      <td>0</td>\n",
       "    </tr>\n",
       "    <tr>\n",
       "      <th>...</th>\n",
       "      <td>...</td>\n",
       "      <td>...</td>\n",
       "      <td>...</td>\n",
       "      <td>...</td>\n",
       "      <td>...</td>\n",
       "    </tr>\n",
       "    <tr>\n",
       "      <th>1367</th>\n",
       "      <td>-0.009711</td>\n",
       "      <td>-0.097693</td>\n",
       "      <td>-0.660962</td>\n",
       "      <td>0.300996</td>\n",
       "      <td>1</td>\n",
       "    </tr>\n",
       "    <tr>\n",
       "      <th>1368</th>\n",
       "      <td>-0.641313</td>\n",
       "      <td>-1.158984</td>\n",
       "      <td>1.179023</td>\n",
       "      <td>0.730127</td>\n",
       "      <td>1</td>\n",
       "    </tr>\n",
       "    <tr>\n",
       "      <th>1369</th>\n",
       "      <td>-1.472357</td>\n",
       "      <td>-2.621646</td>\n",
       "      <td>3.759017</td>\n",
       "      <td>-0.754884</td>\n",
       "      <td>1</td>\n",
       "    </tr>\n",
       "    <tr>\n",
       "      <th>1370</th>\n",
       "      <td>-1.406693</td>\n",
       "      <td>-1.756471</td>\n",
       "      <td>2.552043</td>\n",
       "      <td>-0.043158</td>\n",
       "      <td>1</td>\n",
       "    </tr>\n",
       "    <tr>\n",
       "      <th>1371</th>\n",
       "      <td>-1.047122</td>\n",
       "      <td>-0.439822</td>\n",
       "      <td>0.298616</td>\n",
       "      <td>1.136464</td>\n",
       "      <td>1</td>\n",
       "    </tr>\n",
       "  </tbody>\n",
       "</table>\n",
       "<p>1372 rows × 5 columns</p>\n",
       "</div>"
      ],
      "text/plain": [
       "      Image.Var  Image.Skew  Image.Curt   Entropy  Class\n",
       "0      1.121806    1.149455   -0.975970  0.354561      0\n",
       "1      1.447066    1.064453   -0.895036 -0.128767      0\n",
       "2      1.207810   -0.777352    0.122218  0.618073      0\n",
       "3      1.063742    1.295478   -1.255397 -1.144029      0\n",
       "4     -0.036772   -1.087038    0.736730  0.096587      0\n",
       "...         ...         ...         ...       ...    ...\n",
       "1367  -0.009711   -0.097693   -0.660962  0.300996      1\n",
       "1368  -0.641313   -1.158984    1.179023  0.730127      1\n",
       "1369  -1.472357   -2.621646    3.759017 -0.754884      1\n",
       "1370  -1.406693   -1.756471    2.552043 -0.043158      1\n",
       "1371  -1.047122   -0.439822    0.298616  1.136464      1\n",
       "\n",
       "[1372 rows x 5 columns]"
      ]
     },
     "execution_count": 9,
     "metadata": {},
     "output_type": "execute_result"
    }
   ],
   "source": [
    "data_norm"
   ]
  },
  {
   "cell_type": "code",
   "execution_count": 12,
   "id": "2f2c9f4d",
   "metadata": {},
   "outputs": [],
   "source": [
    "from sklearn.manifold import TSNE\n",
    "tsne=TSNE(learning_rate=500,n_components=2)\n",
    "x_tsne=tsne.fit_transform(data_norm[features])\n"
   ]
  },
  {
   "cell_type": "code",
   "execution_count": 13,
   "id": "c37772fd",
   "metadata": {},
   "outputs": [
    {
     "data": {
      "text/plain": [
       "array([[-29.087358, -25.08813 ],\n",
       "       [-27.0763  , -28.693459],\n",
       "       [ 33.907974, -29.630932],\n",
       "       ...,\n",
       "       [ 62.069714,  15.565064],\n",
       "       [ 53.80179 ,  12.9425  ],\n",
       "       [ 19.0169  ,  34.09381 ]], dtype=float32)"
      ]
     },
     "execution_count": 13,
     "metadata": {},
     "output_type": "execute_result"
    }
   ],
   "source": [
    "x_tsne"
   ]
  },
  {
   "cell_type": "code",
   "execution_count": 14,
   "id": "1436e039",
   "metadata": {},
   "outputs": [],
   "source": [
    "y=data[target]"
   ]
  },
  {
   "cell_type": "code",
   "execution_count": 20,
   "id": "4789b549",
   "metadata": {},
   "outputs": [
    {
     "data": {
      "text/plain": [
       "<matplotlib.collections.PathCollection at 0x15deff130>"
      ]
     },
     "execution_count": 20,
     "metadata": {},
     "output_type": "execute_result"
    },
    {
     "data": {
      "image/png": "[encoded data removed]",
      "text/plain": [
       "<Figure size 640x480 with 1 Axes>"
      ]
     },
     "metadata": {},
     "output_type": "display_data"
    }
   ],
   "source": [
    "plt.scatter(x_tsne[np.where(y==0),0],x_tsne[np.where(y==0),1],color='g',marker=\"+\")\n",
    "plt.scatter(x_tsne[np.where(y==1),0],x_tsne[np.where(y==1),1],color='b',marker='*')"
   ]
  },
  {
   "cell_type": "code",
   "execution_count": null,
   "id": "d3afa770",
   "metadata": {},
   "outputs": [],
   "source": []
  }
 ],
 "metadata": {
  "kernelspec": {
   "display_name": "Python 3 (ipykernel)",
   "language": "python",
   "name": "python3"
  },
  "language_info": {
   "codemirror_mode": {
    "name": "ipython",
    "version": 3
   },
   "file_extension": ".py",
   "mimetype": "text/x-python",
   "name": "python",
   "nbconvert_exporter": "python",
   "pygments_lexer": "ipython3",
   "version": "3.10.9"
  }
 },
 "nbformat": 4,
 "nbformat_minor": 5
}
